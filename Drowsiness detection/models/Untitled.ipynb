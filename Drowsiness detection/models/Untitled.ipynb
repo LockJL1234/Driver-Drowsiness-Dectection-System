{
 "cells": [
  {
   "cell_type": "code",
   "execution_count": 5,
   "id": "front-vertex",
   "metadata": {},
   "outputs": [
    {
     "name": "stdout",
     "output_type": "stream",
     "text": [
      "Keys: <KeysViewHDF5 ['model_weights', 'optimizer_weights']>\n"
     ]
    },
    {
     "data": {
      "text/plain": [
       "['conv2d_1',\n",
       " 'conv2d_2',\n",
       " 'conv2d_3',\n",
       " 'dense_1',\n",
       " 'dense_2',\n",
       " 'dropout_1',\n",
       " 'dropout_2',\n",
       " 'flatten_1',\n",
       " 'max_pooling2d_1',\n",
       " 'max_pooling2d_2',\n",
       " 'max_pooling2d_3']"
      ]
     },
     "execution_count": 5,
     "metadata": {},
     "output_type": "execute_result"
    }
   ],
   "source": [
    "import h5py\n",
    "filename = \"cnnCat2.h5\"\n",
    "\n",
    "with h5py.File(filename, \"r\") as f:\n",
    "    # List all groups\n",
    "    print(\"Keys: %s\" % f.keys())\n",
    "    a_group_key = list(f.keys())[0]\n",
    "\n",
    "    # Get the data\n",
    "    data = list(f[a_group_key])\n",
    "\n",
    "filename\n",
    "data"
   ]
  },
  {
   "cell_type": "code",
   "execution_count": 15,
   "id": "comfortable-distribution",
   "metadata": {},
   "outputs": [
    {
     "name": "stdout",
     "output_type": "stream",
     "text": [
      "<HDF5 group \"/model_weights\" (11 members)>\n"
     ]
    },
    {
     "data": {
      "text/plain": [
       "<KeysViewHDF5 ['model_weights', 'optimizer_weights']>"
      ]
     },
     "execution_count": 15,
     "metadata": {},
     "output_type": "execute_result"
    }
   ],
   "source": [
    "hf = h5py.File('cnnCat2.h5', 'r')\n",
    "print(hf.get('model_weights'))\n",
    "hf.keys()"
   ]
  },
  {
   "cell_type": "code",
   "execution_count": 20,
   "id": "adjacent-burke",
   "metadata": {},
   "outputs": [
    {
     "data": {
      "text/plain": [
       "<HDF5 group \"/model_weights\" (11 members)>"
      ]
     },
     "execution_count": 20,
     "metadata": {},
     "output_type": "execute_result"
    }
   ],
   "source": [
    "hf['model_weights']"
   ]
  },
  {
   "cell_type": "code",
   "execution_count": 23,
   "id": "solved-arena",
   "metadata": {},
   "outputs": [
    {
     "name": "stdout",
     "output_type": "stream",
     "text": [
      "[('conv2d_1', <HDF5 group \"/model_weights/conv2d_1\" (1 members)>), ('conv2d_2', <HDF5 group \"/model_weights/conv2d_2\" (1 members)>), ('conv2d_3', <HDF5 group \"/model_weights/conv2d_3\" (1 members)>), ('dense_1', <HDF5 group \"/model_weights/dense_1\" (1 members)>), ('dense_2', <HDF5 group \"/model_weights/dense_2\" (1 members)>), ('dropout_1', <HDF5 group \"/model_weights/dropout_1\" (0 members)>), ('dropout_2', <HDF5 group \"/model_weights/dropout_2\" (0 members)>), ('flatten_1', <HDF5 group \"/model_weights/flatten_1\" (0 members)>), ('max_pooling2d_1', <HDF5 group \"/model_weights/max_pooling2d_1\" (0 members)>), ('max_pooling2d_2', <HDF5 group \"/model_weights/max_pooling2d_2\" (0 members)>), ('max_pooling2d_3', <HDF5 group \"/model_weights/max_pooling2d_3\" (0 members)>)]\n"
     ]
    }
   ],
   "source": [
    "asd = hf.get('model_weights')\n",
    "asd_items = list(asd.items())\n",
    "print(asd_items)"
   ]
  },
  {
   "cell_type": "code",
   "execution_count": 29,
   "id": "aging-bleeding",
   "metadata": {},
   "outputs": [
    {
     "name": "stdout",
     "output_type": "stream",
     "text": [
      "[('conv2d_1', <HDF5 group \"/model_weights/conv2d_1/conv2d_1\" (2 members)>)]\n"
     ]
    }
   ],
   "source": [
    "ag = hf.get('/model_weights/conv2d_1')\n",
    "print(list(ag.items()))"
   ]
  },
  {
   "cell_type": "code",
   "execution_count": 30,
   "id": "opening-region",
   "metadata": {},
   "outputs": [
    {
     "name": "stdout",
     "output_type": "stream",
     "text": [
      "[('bias:0', <HDF5 dataset \"bias:0\": shape (32,), type \"<f4\">), ('kernel:0', <HDF5 dataset \"kernel:0\": shape (3, 3, 1, 32), type \"<f4\">)]\n"
     ]
    }
   ],
   "source": [
    "af = hf.get('/model_weights/conv2d_1/conv2d_1')\n",
    "print(list(af.items()))"
   ]
  }
 ],
 "metadata": {
  "kernelspec": {
   "display_name": "Python 3",
   "language": "python",
   "name": "python3"
  },
  "language_info": {
   "codemirror_mode": {
    "name": "ipython",
    "version": 3
   },
   "file_extension": ".py",
   "mimetype": "text/x-python",
   "name": "python",
   "nbconvert_exporter": "python",
   "pygments_lexer": "ipython3",
   "version": "3.8.8"
  }
 },
 "nbformat": 4,
 "nbformat_minor": 5
}
